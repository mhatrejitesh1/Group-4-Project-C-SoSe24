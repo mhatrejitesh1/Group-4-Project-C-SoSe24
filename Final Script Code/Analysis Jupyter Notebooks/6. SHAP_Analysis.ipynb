{
  "nbformat": 4,
  "nbformat_minor": 0,
  "metadata": {
    "colab": {
      "provenance": []
    },
    "kernelspec": {
      "name": "python3",
      "display_name": "Python 3"
    },
    "language_info": {
      "name": "python"
    }
  },
  "cells": [
    {
      "cell_type": "code",
      "source": [],
      "metadata": {
        "id": "dTASlGGw9Sv5"
      },
      "execution_count": null,
      "outputs": []
    },
    {
      "cell_type": "markdown",
      "source": [
        "Import Necessary Libraries:"
      ],
      "metadata": {
        "id": "0-J0ApKB9UdA"
      }
    },
    {
      "cell_type": "code",
      "source": [
        "pip install shap scikit-learn pandas numpy\n"
      ],
      "metadata": {
        "colab": {
          "base_uri": "https://localhost:8080/"
        },
        "id": "bYRknkhzrRNm",
        "outputId": "f29ae14a-61c0-49cb-ee03-2b64fa349d64"
      },
      "execution_count": null,
      "outputs": [
        {
          "output_type": "stream",
          "name": "stdout",
          "text": [
            "Collecting shap\n",
            "  Downloading shap-0.46.0-cp310-cp310-manylinux_2_12_x86_64.manylinux2010_x86_64.manylinux_2_17_x86_64.manylinux2014_x86_64.whl (540 kB)\n",
            "\u001b[2K     \u001b[90m━━━━━━━━━━━━━━━━━━━━━━━━━━━━━━━━━━━━━━━━\u001b[0m \u001b[32m540.1/540.1 kB\u001b[0m \u001b[31m3.3 MB/s\u001b[0m eta \u001b[36m0:00:00\u001b[0m\n",
            "\u001b[?25hRequirement already satisfied: scikit-learn in /usr/local/lib/python3.10/dist-packages (1.2.2)\n",
            "Requirement already satisfied: pandas in /usr/local/lib/python3.10/dist-packages (2.0.3)\n",
            "Requirement already satisfied: numpy in /usr/local/lib/python3.10/dist-packages (1.25.2)\n",
            "Requirement already satisfied: scipy in /usr/local/lib/python3.10/dist-packages (from shap) (1.11.4)\n",
            "Requirement already satisfied: tqdm>=4.27.0 in /usr/local/lib/python3.10/dist-packages (from shap) (4.66.4)\n",
            "Requirement already satisfied: packaging>20.9 in /usr/local/lib/python3.10/dist-packages (from shap) (24.1)\n",
            "Collecting slicer==0.0.8 (from shap)\n",
            "  Downloading slicer-0.0.8-py3-none-any.whl (15 kB)\n",
            "Requirement already satisfied: numba in /usr/local/lib/python3.10/dist-packages (from shap) (0.58.1)\n",
            "Requirement already satisfied: cloudpickle in /usr/local/lib/python3.10/dist-packages (from shap) (2.2.1)\n",
            "Requirement already satisfied: joblib>=1.1.1 in /usr/local/lib/python3.10/dist-packages (from scikit-learn) (1.4.2)\n",
            "Requirement already satisfied: threadpoolctl>=2.0.0 in /usr/local/lib/python3.10/dist-packages (from scikit-learn) (3.5.0)\n",
            "Requirement already satisfied: python-dateutil>=2.8.2 in /usr/local/lib/python3.10/dist-packages (from pandas) (2.8.2)\n",
            "Requirement already satisfied: pytz>=2020.1 in /usr/local/lib/python3.10/dist-packages (from pandas) (2023.4)\n",
            "Requirement already satisfied: tzdata>=2022.1 in /usr/local/lib/python3.10/dist-packages (from pandas) (2024.1)\n",
            "Requirement already satisfied: six>=1.5 in /usr/local/lib/python3.10/dist-packages (from python-dateutil>=2.8.2->pandas) (1.16.0)\n",
            "Requirement already satisfied: llvmlite<0.42,>=0.41.0dev0 in /usr/local/lib/python3.10/dist-packages (from numba->shap) (0.41.1)\n",
            "Installing collected packages: slicer, shap\n",
            "Successfully installed shap-0.46.0 slicer-0.0.8\n"
          ]
        }
      ]
    },
    {
      "cell_type": "code",
      "execution_count": null,
      "metadata": {
        "id": "F_XqnIB-qvLv"
      },
      "outputs": [],
      "source": [
        "import pandas as pd\n",
        "import shap\n",
        "import matplotlib.pyplot as plt\n",
        "from sklearn.ensemble import RandomForestRegressor\n",
        "from sklearn.model_selection import train_test_split\n",
        "\n",
        "\n"
      ]
    },
    {
      "cell_type": "markdown",
      "source": [
        "Load Your Data:\n",
        "Load and prepare your data as described earlier."
      ],
      "metadata": {
        "id": "FChmMIvg9ZOP"
      }
    },
    {
      "cell_type": "markdown",
      "source": [
        "Train Models and Generate SHAP Values:\n",
        "Train a model for each target column and compute SHAP values."
      ],
      "metadata": {
        "id": "Ugvp7vt59eGn"
      }
    },
    {
      "cell_type": "code",
      "source": [
        "import pandas as pd\n",
        "import shap\n",
        "import matplotlib.pyplot as plt\n",
        "from sklearn.ensemble import RandomForestRegressor\n",
        "from sklearn.model_selection import train_test_split\n",
        "import os\n",
        "from PIL import Image\n",
        "\n",
        "# Load your dataset from Excel\n",
        "file_path = 'cleaned_imputed_data.xlsx'\n",
        "data = pd.read_excel(file_path)\n",
        "\n",
        "# Define feature columns and target columns\n",
        "feature_columns = [\n",
        "    'Carbon content (wt%)',\n",
        "    'Hydrogen content (wt%)',\n",
        "    'Nitrogen content (wt%)',\n",
        "    'Oxygen content (wt%)',\n",
        "    'Sulfur content (wt%)',\n",
        "    'Volatile matter (wt%)',\n",
        "    'Fixed carbon (wt%)',\n",
        "    'Ash content (wt%)',\n",
        "    'Reaction temperature (°C)',\n",
        "    'Microwave power (W)',\n",
        "    'Reaction time (min)',\n",
        "    'Microwave absorber percentage (%)',\n",
        "    'Dielectric constant of absorber (ε′)',\n",
        "    'Dielectric loss factor of absorber (ε“)'\n",
        "]\n",
        "\n",
        "target_columns = [\n",
        "    'Bio-oil yield (%)',\n",
        "    'Syngas yield (%)',\n",
        "    'Syngas composition (H₂, mol%)',\n",
        "    'Syngas composition (CH₄, mol%)',\n",
        "    'Syngas composition (CO₂, mol%)',\n",
        "    'Syngas composition (CO, mol%)',\n",
        "    'Biochar yield (%)',\n",
        "    'Biochar calorific value (MJ/kg)',\n",
        "    'Biochar H/C ratio (-)',\n",
        "    'Biochar H/N ratio (-)',\n",
        "    'Biochar O/C ratio (-)'\n",
        "]\n",
        "\n",
        "# Extract features and targets\n",
        "X = data[feature_columns]\n",
        "y = data[target_columns]\n",
        "\n",
        "# Directory to save plots\n",
        "plot_dir = 'shap_plots/'\n",
        "if not os.path.exists(plot_dir):\n",
        "    os.makedirs(plot_dir)\n",
        "\n",
        "def sanitize_filename(filename):\n",
        "    return ''.join(c for c in filename if c.isalnum() or c in (' ', '_')).rstrip()\n",
        "\n",
        "# Generate and save SHAP summary plots\n",
        "for target_column in target_columns:\n",
        "    print(f\"Analyzing target: {target_column}\")\n",
        "\n",
        "    # Extract the target values\n",
        "    y_target = y[target_column]\n",
        "\n",
        "    # Split the data into train and test sets\n",
        "    X_train, X_test, y_train, y_test = train_test_split(X, y_target, test_size=0.2, random_state=42)\n",
        "\n",
        "    # Train a Random Forest regressor\n",
        "    model = RandomForestRegressor(n_estimators=100, random_state=42)\n",
        "    model.fit(X_train, y_train)\n",
        "\n",
        "    # Create a SHAP explainer\n",
        "    explainer = shap.TreeExplainer(model)\n",
        "\n",
        "    # Calculate SHAP values\n",
        "    shap_values = explainer.shap_values(X_test)\n",
        "\n",
        "    # Save the summary plot to a file\n",
        "    try:\n",
        "        plt.figure(figsize=(10, 5))\n",
        "        shap.summary_plot(shap_values, X_test, show=False)\n",
        "        plt.title(f\"SHAP Summary Plot for {target_column}\")\n",
        "\n",
        "        # Sanitize the filename\n",
        "        safe_target_column = sanitize_filename(target_column)\n",
        "        filename = os.path.join(plot_dir, f'shap_summary_{safe_target_column}.png')\n",
        "        plt.savefig(filename)\n",
        "        plt.close()\n",
        "    except Exception as e:\n",
        "        print(f\"Failed to save plot for {target_column}: {e}\")\n",
        "\n",
        "# Combine saved SHAP plot images into one large image\n",
        "plot_files = sorted([os.path.join(plot_dir, f) for f in os.listdir(plot_dir) if f.endswith('.png')])\n",
        "\n",
        "# Open images\n",
        "images = [Image.open(f) for f in plot_files]\n",
        "\n",
        "# Assuming all images are the same size, get dimensions\n",
        "width, height = images[0].size\n",
        "\n",
        "# Create a new image with a height that can fit all plots\n",
        "total_height = height * len(images)\n",
        "combined_image = Image.new('RGB', (width, total_height))\n",
        "\n",
        "# Paste each image into the combined image\n",
        "y_offset = 0\n",
        "for img in images:\n",
        "    combined_image.paste(img, (0, y_offset))\n",
        "    y_offset += height\n",
        "\n",
        "# Save and show the combined image\n",
        "combined_image_path = 'combined_shap_plots.png'\n",
        "combined_image.save(combined_image_path)\n",
        "\n",
        "# Display the combined image\n",
        "combined_image.show()\n"
      ],
      "metadata": {
        "colab": {
          "base_uri": "https://localhost:8080/"
        },
        "id": "pXRH6iiI-sWm",
        "outputId": "e962097d-82f9-4187-de77-2295554ce312"
      },
      "execution_count": null,
      "outputs": [
        {
          "output_type": "stream",
          "name": "stdout",
          "text": [
            "Analyzing target: Bio-oil yield (%)\n",
            "Analyzing target: Syngas yield (%)\n",
            "Analyzing target: Syngas composition (H₂, mol%)\n",
            "Analyzing target: Syngas composition (CH₄, mol%)\n",
            "Analyzing target: Syngas composition (CO₂, mol%)\n",
            "Analyzing target: Syngas composition (CO, mol%)\n",
            "Analyzing target: Biochar yield (%)\n",
            "Analyzing target: Biochar calorific value (MJ/kg)\n",
            "Analyzing target: Biochar H/C ratio (-)\n",
            "Analyzing target: Biochar H/N ratio (-)\n",
            "Analyzing target: Biochar O/C ratio (-)\n"
          ]
        }
      ]
    }
  ]
}